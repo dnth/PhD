{
 "cells": [
  {
   "cell_type": "code",
   "execution_count": 1,
   "metadata": {
    "ExecuteTime": {
     "end_time": "2019-08-02T10:53:50.510940Z",
     "start_time": "2019-08-02T10:53:46.347906Z"
    }
   },
   "outputs": [
    {
     "name": "stderr",
     "output_type": "stream",
     "text": [
      "/media/camaro/CODE_DATASET1/anaconda3/envs/soc/lib/python3.6/site-packages/requests/__init__.py:91: RequestsDependencyWarning: urllib3 (1.25.2) or chardet (3.0.4) doesn't match a supported version!\n",
      "  RequestsDependencyWarning)\n",
      "COMET INFO: old comet version (1.0.53) detected. current: 2.0.5 please update your comet lib with command: `pip install --no-cache-dir --upgrade comet_ml`\n",
      "COMET INFO: Experiment is live on comet.ml https://www.comet.ml/dnth/general/0fa943c1fdb949df83125293b1156d76\n",
      "\n"
     ]
    }
   ],
   "source": [
    "# import comet_ml in the top of your file\n",
    "from comet_ml import Experiment\n",
    "\n",
    "# Add the following code anywhere in your machine learning file\n",
    "experiment = Experiment(api_key=\"XOLtm5KjR7wLV4oztHSZfIDSZ\",\n",
    "                        project_name=\"general\", workspace=\"dnth\")\n",
    "\n",
    "# Run your code and go to https://www.comet.ml/"
   ]
  },
  {
   "cell_type": "code",
   "execution_count": 2,
   "metadata": {
    "ExecuteTime": {
     "end_time": "2019-08-02T10:53:51.274221Z",
     "start_time": "2019-08-02T10:53:50.512739Z"
    }
   },
   "outputs": [],
   "source": [
    "import seaborn as sns\n",
    "import matplotlib.style as style\n",
    "import math\n",
    "from sklearn.metrics import mean_squared_error, mean_absolute_error, r2_score\n",
    "from matplotlib import pyplot\n",
    "from pandas import read_csv\n",
    "import numpy as np\n",
    "import matplotlib.pyplot as plt\n",
    "import pandas as pd\n",
    "import os\n",
    "from sklearn.preprocessing import LabelBinarizer\n",
    "os.environ[\"CUDA_DEVICE_ORDER\"] = \"PCI_BUS_ID\"\n",
    "os.environ[\"CUDA_VISIBLE_DEVICES\"] = \"0\"\n",
    "\n",
    "\n",
    "%matplotlib inline\n",
    "style.use('fivethirtyeight')\n",
    "\n",
    "\n",
    "def create_dataset(dataset, look_back=1):\n",
    "    dataX, dataY = [], []\n",
    "    for i in range(len(dataset)-look_back-1):\n",
    "        # use first and second column in the dataset\n",
    "        a = dataset[i:(i+look_back), 0:3]\n",
    "        dataX.append(a)\n",
    "        # the output is at the third column of the dataset\n",
    "        dataY.append(dataset[i + look_back, 3])\n",
    "    return np.array(dataX), np.array(dataY)\n",
    "\n",
    "\n",
    "def mean_absolute_percentage_error(y_true, y_pred):\n",
    "    y_true, y_pred = np.array(y_true), np.array(y_pred)\n",
    "    return np.mean(np.abs((y_true - y_pred) / y_true)) * 100"
   ]
  },
  {
   "cell_type": "code",
   "execution_count": 3,
   "metadata": {
    "ExecuteTime": {
     "end_time": "2019-08-02T10:53:51.355958Z",
     "start_time": "2019-08-02T10:53:51.275582Z"
    }
   },
   "outputs": [],
   "source": [
    "dataframe_trainset = read_csv(\n",
    "    '../dataset/different_cycle_train_test/train_FUDS_BJDST_US06.csv', header=0, index_col=0)\n",
    "\n",
    "dataframe_testset = read_csv(\n",
    "    '../dataset/different_cycle_train_test/test_DST.csv', header=0, index_col=0)"
   ]
  },
  {
   "cell_type": "code",
   "execution_count": 4,
   "metadata": {
    "ExecuteTime": {
     "end_time": "2019-08-02T10:53:51.515481Z",
     "start_time": "2019-08-02T10:53:51.357000Z"
    }
   },
   "outputs": [],
   "source": [
    "train_dataset = dataframe_trainset.values\n",
    "X = train_dataset[:, :2]\n",
    "# one hot encode the temperature\n",
    "tempBinarizer = LabelBinarizer().fit(dataframe_trainset['Temp(C)'])\n",
    "trainCategorical = tempBinarizer.transform(dataframe_trainset['Temp(C)'])\n",
    "# concatenate the one hot features to V and I\n",
    "X = np.hstack([X, trainCategorical])\n",
    "Y = train_dataset[:, 3]\n",
    "\n",
    "\n",
    "test_dataset = dataframe_testset.values\n",
    "X_test = test_dataset[:, :2]\n",
    "# one hot encode the temperature\n",
    "tempBinarizer = LabelBinarizer().fit(dataframe_testset['Temp(C)'])\n",
    "testCategorical = tempBinarizer.transform(dataframe_testset['Temp(C)'])\n",
    "X_test = np.hstack([X_test, testCategorical])\n",
    "Y_test = test_dataset[:, 3]\n",
    "\n",
    "# reshape into X=t and Y=t+1\n",
    "look_back = 15\n",
    "feature = 3  # voltage and current and temp\n",
    "\n",
    "trainX, trainY = create_dataset(train_dataset, look_back)\n",
    "testX, testY = create_dataset(test_dataset, look_back)"
   ]
  },
  {
   "cell_type": "code",
   "execution_count": 5,
   "metadata": {
    "ExecuteTime": {
     "end_time": "2019-08-02T10:53:51.518737Z",
     "start_time": "2019-08-02T10:53:51.516551Z"
    }
   },
   "outputs": [],
   "source": [
    "# reshape input to be [samples, time steps, features]\n",
    "trainX = np.reshape(trainX, (trainX.shape[0], trainX.shape[1], feature))\n",
    "testX = np.reshape(testX, (testX.shape[0], testX.shape[1], feature))"
   ]
  },
  {
   "cell_type": "code",
   "execution_count": 7,
   "metadata": {
    "ExecuteTime": {
     "end_time": "2019-08-02T10:54:23.384480Z",
     "start_time": "2019-08-02T10:54:19.500873Z"
    }
   },
   "outputs": [],
   "source": [
    "from keras.callbacks import EarlyStopping, ModelCheckpoint, ReduceLROnPlateau, TensorBoard, CSVLogger\n",
    "from keras.models import Sequential, Model\n",
    "from keras.layers import Dense, Dropout, regularizers, BatchNormalization\n",
    "\n",
    "from keras.layers import Flatten, GlobalAveragePooling1D\n",
    "from keras.layers.convolutional import Conv1D, Conv2D\n",
    "from keras.layers.convolutional import MaxPooling1D\n",
    "from keras.regularizers import l2\n",
    "\n",
    "from keras.layers import Conv1D, Input, Add, Activation, Dropout, Multiply, Lambda\n",
    "from keras.initializers import TruncatedNormal\n",
    "from keras.regularizers import l2\n",
    "from keras.layers.advanced_activations import LeakyReLU, ELU\n",
    "from keras.optimizers import Adam\n",
    "from keras.layers import SimpleRNN, LSTM\n",
    "from time import time\n",
    "import livelossplot\n",
    "from clr_callback import CyclicLR\n",
    "\n",
    "MIN_LR = 1e-7\n",
    "MAX_LR = 1e-2\n",
    "BATCH_SIZE = 64\n",
    "STEP_SIZE = 8\n",
    "CLR_METHOD = \"triangular2\"\n",
    "NUM_EPOCHS = 96\n",
    "\n",
    "TRAINING_PLOT_PATH = os.path.sep.join([\"output\", \"training_plot.png\"])\n",
    "CLR_PLOT_PATH = os.path.sep.join([\"output\", \"clr_plot.png\"])\n",
    "\n",
    "clr = CyclicLR(\n",
    "    mode=CLR_METHOD,\n",
    "    base_lr=MIN_LR,\n",
    "    max_lr=MAX_LR,\n",
    "    step_size=STEP_SIZE * (trainX.shape[0] // BATCH_SIZE))\n",
    "\n",
    "\n",
    "\n",
    "plot_losses = livelossplot.PlotLossesKeras()\n",
    "\n",
    "csv_logger = CSVLogger(\n",
    "    filename='rnn_saved_models/training.log', separator=',', append=False)\n",
    "\n",
    "reduce_lr = ReduceLROnPlateau(\n",
    "    monitor='val_loss', factor=0.9, patience=10, verbose=2, cooldown=1)\n",
    "\n",
    "earlyStopping = EarlyStopping(\n",
    "    monitor='val_loss', patience=100, verbose=2, mode='auto')\n",
    "\n",
    "filepath = \"rnn_saved_models/weights-improvement-{epoch:04d}-{val_loss:.6f}.hdf5\"\n",
    "\n",
    "checkpoint = ModelCheckpoint(\n",
    "    filepath, monitor='val_loss', verbose=1, save_best_only=True, mode='auto')\n",
    "\n",
    "tensorboard = TensorBoard(log_dir=\"logs/{}\".format(time()))\n",
    "\n",
    "callbacks_list = [plot_losses, clr]\n",
    "\n",
    "\n",
    "model = Sequential()\n",
    "model.add(LSTM(32, input_shape=(look_back, feature)))\n",
    "model.add(Dense(1, activation='sigmoid'))\n",
    "model.compile(loss='mse', optimizer='adam', metrics=[\n",
    "              'mse', 'mae', 'mape', 'cosine'])"
   ]
  },
  {
   "cell_type": "code",
   "execution_count": 8,
   "metadata": {
    "ExecuteTime": {
     "end_time": "2019-08-02T10:54:23.388263Z",
     "start_time": "2019-08-02T10:54:23.385622Z"
    }
   },
   "outputs": [
    {
     "name": "stdout",
     "output_type": "stream",
     "text": [
      "_________________________________________________________________\n",
      "Layer (type)                 Output Shape              Param #   \n",
      "=================================================================\n",
      "lstm_1 (LSTM)                (None, 32)                4608      \n",
      "_________________________________________________________________\n",
      "dense_1 (Dense)              (None, 1)                 33        \n",
      "=================================================================\n",
      "Total params: 4,641\n",
      "Trainable params: 4,641\n",
      "Non-trainable params: 0\n",
      "_________________________________________________________________\n"
     ]
    }
   ],
   "source": [
    "model.summary()"
   ]
  },
  {
   "cell_type": "code",
   "execution_count": 9,
   "metadata": {
    "ExecuteTime": {
     "end_time": "2019-08-02T10:54:23.490660Z",
     "start_time": "2019-08-02T10:54:23.389496Z"
    },
    "scrolled": true
   },
   "outputs": [
    {
     "data": {
      "image/svg+xml": [
       "<svg height=\"191pt\" viewBox=\"0.00 0.00 126.00 191.00\" width=\"126pt\" xmlns=\"http://www.w3.org/2000/svg\" xmlns:xlink=\"http://www.w3.org/1999/xlink\">\n",
       "<g class=\"graph\" id=\"graph0\" transform=\"scale(1 1) rotate(0) translate(4 187)\">\n",
       "<title>G</title>\n",
       "<polygon fill=\"#ffffff\" points=\"-4,4 -4,-187 122,-187 122,4 -4,4\" stroke=\"transparent\"/>\n",
       "<!-- 140393860642408 -->\n",
       "<g class=\"node\" id=\"node1\">\n",
       "<title>140393860642408</title>\n",
       "<polygon fill=\"none\" points=\"10,-73.5 10,-109.5 108,-109.5 108,-73.5 10,-73.5\" stroke=\"#000000\"/>\n",
       "<text fill=\"#000000\" font-family=\"Times,serif\" font-size=\"14.00\" text-anchor=\"middle\" x=\"59\" y=\"-87.8\">lstm_1: LSTM</text>\n",
       "</g>\n",
       "<!-- 140393860642744 -->\n",
       "<g class=\"node\" id=\"node2\">\n",
       "<title>140393860642744</title>\n",
       "<polygon fill=\"none\" points=\"8,-.5 8,-36.5 110,-36.5 110,-.5 8,-.5\" stroke=\"#000000\"/>\n",
       "<text fill=\"#000000\" font-family=\"Times,serif\" font-size=\"14.00\" text-anchor=\"middle\" x=\"59\" y=\"-14.8\">dense_1: Dense</text>\n",
       "</g>\n",
       "<!-- 140393860642408&#45;&gt;140393860642744 -->\n",
       "<g class=\"edge\" id=\"edge2\">\n",
       "<title>140393860642408-&gt;140393860642744</title>\n",
       "<path d=\"M59,-73.4551C59,-65.3828 59,-55.6764 59,-46.6817\" fill=\"none\" stroke=\"#000000\"/>\n",
       "<polygon fill=\"#000000\" points=\"62.5001,-46.5903 59,-36.5904 55.5001,-46.5904 62.5001,-46.5903\" stroke=\"#000000\"/>\n",
       "</g>\n",
       "<!-- 140393766659856 -->\n",
       "<g class=\"node\" id=\"node3\">\n",
       "<title>140393766659856</title>\n",
       "<polygon fill=\"none\" points=\"0,-146.5 0,-182.5 118,-182.5 118,-146.5 0,-146.5\" stroke=\"#000000\"/>\n",
       "<text fill=\"#000000\" font-family=\"Times,serif\" font-size=\"14.00\" text-anchor=\"middle\" x=\"59\" y=\"-160.8\">140393766659856</text>\n",
       "</g>\n",
       "<!-- 140393766659856&#45;&gt;140393860642408 -->\n",
       "<g class=\"edge\" id=\"edge1\">\n",
       "<title>140393766659856-&gt;140393860642408</title>\n",
       "<path d=\"M59,-146.4551C59,-138.3828 59,-128.6764 59,-119.6817\" fill=\"none\" stroke=\"#000000\"/>\n",
       "<polygon fill=\"#000000\" points=\"62.5001,-119.5903 59,-109.5904 55.5001,-119.5904 62.5001,-119.5903\" stroke=\"#000000\"/>\n",
       "</g>\n",
       "</g>\n",
       "</svg>"
      ],
      "text/plain": [
       "<IPython.core.display.SVG object>"
      ]
     },
     "execution_count": 9,
     "metadata": {},
     "output_type": "execute_result"
    }
   ],
   "source": [
    "from IPython.display import SVG\n",
    "from keras.utils.vis_utils import model_to_dot\n",
    "\n",
    "SVG(model_to_dot(model).create(prog='dot', format='svg'))"
   ]
  },
  {
   "cell_type": "code",
   "execution_count": null,
   "metadata": {
    "ExecuteTime": {
     "start_time": "2019-08-02T10:54:22.871Z"
    },
    "scrolled": false
   },
   "outputs": [
    {
     "data": {
      "image/png": "[encoded data removed]",
      "text/plain": [
       "<Figure size 864x1152 with 5 Axes>"
      ]
     },
     "metadata": {
      "needs_background": "light"
     },
     "output_type": "display_data"
    }
   ],
   "source": [
    "import time\n",
    "time_start = time.time()\n",
    "history = model.fit(trainX,trainY, callbacks=callbacks_list, epochs=1000, validation_split=0.15, batch_size=256, verbose=2)"
   ]
  },
  {
   "cell_type": "code",
   "execution_count": null,
   "metadata": {
    "ExecuteTime": {
     "start_time": "2019-08-02T10:54:22.872Z"
    }
   },
   "outputs": [],
   "source": [
    "MSE_scores = []\n",
    "RMSE_scores = []\n",
    "MAE_scores = []\n",
    "MAPE_scores = []\n",
    "R2_scores = []\n",
    "\n",
    "print(\"Training Time: {}\".format(time.time()-time_start))\n",
    "\n",
    "print(\"----------------------------\")\n",
    "prediction = model.predict(trainX)\n",
    "df = pd.DataFrame(prediction, columns=[\"Predicted SOC\"])\n",
    "df['True SOC'] = trainY\n",
    "df['Rolling Mean Pred'] = df[\"Predicted SOC\"].rolling(window = 100).mean()\n",
    "df = df.dropna()\n",
    "\n",
    "# Calculate MSE\n",
    "mseScore = mean_squared_error(df['True SOC'].values, df['Rolling Mean Pred'].values)\n",
    "print('Train MSE: %.6f  ' % (mseScore))\n",
    "MSE_scores.append(mseScore)\n",
    "\n",
    "# Calculate RMSE\n",
    "rmseScore = math.sqrt(mean_squared_error(df['True SOC'].values, df['Rolling Mean Pred'].values))\n",
    "print('Train RMSE: %.6f  ' % (rmseScore))\n",
    "RMSE_scores.append(rmseScore)\n",
    "\n",
    "# Calculate MAE\n",
    "maeScore = math.sqrt(mean_absolute_error(df['True SOC'].values, df['Rolling Mean Pred'].values))\n",
    "print('Train MAE: %.6f  ' % (maeScore))\n",
    "MAE_scores.append(maeScore)\n",
    "\n",
    "# Calculate MAPE\n",
    "mapeScore = math.sqrt(mean_absolute_percentage_error(df['True SOC'].values, df['Rolling Mean Pred'].values))\n",
    "print('Train MAPE: %.6f  ' % (mapeScore))\n",
    "MAPE_scores.append(mapeScore)\n",
    "\n",
    "# Calculate R2\n",
    "r2score = r2_score(df['True SOC'].values, df['Rolling Mean Pred'].values)  \n",
    "print('R2 Coefficient: %.6f ' % (r2score))\n",
    "R2_scores.append(r2score)\n",
    "\n",
    "\n",
    "\n",
    "df.plot()"
   ]
  },
  {
   "cell_type": "code",
   "execution_count": null,
   "metadata": {
    "ExecuteTime": {
     "start_time": "2019-08-02T10:54:22.874Z"
    }
   },
   "outputs": [],
   "source": [
    "print(\"----------------------------\")\n",
    "prediction = model.predict(testX)\n",
    "df = pd.DataFrame(prediction, columns=[\"Predicted SOC\"])\n",
    "df['True SOC'] = testY\n",
    "df['Rolling Mean Pred'] = df[\"Predicted SOC\"].rolling(window=100).mean()\n",
    "df = df.dropna()\n",
    "\n",
    "# Calculate MSE\n",
    "mseScore = mean_squared_error(\n",
    "    df['True SOC'].values, df['Rolling Mean Pred'].values)\n",
    "print('Test MSE: %.6f  ' % (mseScore))\n",
    "MSE_scores.append(mseScore)\n",
    "\n",
    "# Calculate RMSE\n",
    "rmseScore = math.sqrt(mean_squared_error(\n",
    "    df['True SOC'].values, df['Rolling Mean Pred'].values))\n",
    "print('Test RMSE: %.6f  ' % (rmseScore))\n",
    "RMSE_scores.append(rmseScore)\n",
    "\n",
    "# Calculate MAE\n",
    "maeScore = math.sqrt(mean_absolute_error(\n",
    "    df['True SOC'].values, df['Rolling Mean Pred'].values))\n",
    "print('Test MAE: %.6f  ' % (maeScore))\n",
    "MAE_scores.append(maeScore)\n",
    "\n",
    "# Calculate MAPE\n",
    "mapeScore = math.sqrt(mean_absolute_percentage_error(\n",
    "    df['True SOC'].values, df['Rolling Mean Pred'].values))\n",
    "print('Test MAPE: %.6f  ' % (mapeScore))\n",
    "MAPE_scores.append(mapeScore)\n",
    "\n",
    "# Calculate R2\n",
    "r2score = r2_score(df['True SOC'].values, df['Rolling Mean Pred'].values)\n",
    "print('R2 Coefficient: %.6f ' % (r2score))\n",
    "R2_scores.append(r2score)\n",
    "\n",
    "\n",
    "df.plot()"
   ]
  },
  {
   "cell_type": "code",
   "execution_count": null,
   "metadata": {
    "ExecuteTime": {
     "start_time": "2019-08-02T10:54:22.875Z"
    }
   },
   "outputs": [],
   "source": [
    "result_df = pd.DataFrame({\"Dataset\":[\"Train\", \"Test\"], \"MSE\":MSE_scores, \"RMSE\":RMSE_scores, \"MAE\":MAE_scores, \"MAPE\":MAPE_scores, \"R2\":R2_scores})\n",
    "result_df"
   ]
  },
  {
   "cell_type": "code",
   "execution_count": null,
   "metadata": {},
   "outputs": [],
   "source": []
  }
 ],
 "metadata": {
  "kernelspec": {
   "display_name": "Python 3",
   "language": "python",
   "name": "python3"
  },
  "language_info": {
   "codemirror_mode": {
    "name": "ipython",
    "version": 3
   },
   "file_extension": ".py",
   "mimetype": "text/x-python",
   "name": "python",
   "nbconvert_exporter": "python",
   "pygments_lexer": "ipython3",
   "version": "3.6.8"
  }
 },
 "nbformat": 4,
 "nbformat_minor": 2
}
