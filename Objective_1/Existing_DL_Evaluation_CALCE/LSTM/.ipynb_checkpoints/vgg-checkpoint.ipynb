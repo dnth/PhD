{
 "cells": [
  {
   "cell_type": "code",
   "execution_count": 1,
   "metadata": {
    "ExecuteTime": {
     "end_time": "2019-08-06T11:05:18.958156Z",
     "start_time": "2019-08-06T11:05:17.779180Z"
    }
   },
   "outputs": [],
   "source": [
    "import seaborn as sns\n",
    "import matplotlib.style as style\n",
    "import math\n",
    "from sklearn.metrics import mean_squared_error, mean_absolute_error, r2_score\n",
    "from matplotlib import pyplot\n",
    "from pandas import read_csv\n",
    "import numpy as np\n",
    "import matplotlib.pyplot as plt\n",
    "import pandas as pd\n",
    "import os\n",
    "from sklearn.preprocessing import LabelBinarizer\n",
    "os.environ[\"CUDA_DEVICE_ORDER\"] = \"PCI_BUS_ID\"\n",
    "os.environ[\"CUDA_VISIBLE_DEVICES\"] = \"1\"\n",
    "\n",
    "\n",
    "%matplotlib inline\n",
    "style.use('fivethirtyeight')\n",
    "\n",
    "\n",
    "def create_dataset(dataset, look_back=1):\n",
    "    dataX, dataY = [], []\n",
    "    for i in range(len(dataset)-look_back-1):\n",
    "        # use first and second column in the dataset\n",
    "        a = dataset[i:(i+look_back), 0:3]\n",
    "        dataX.append(a)\n",
    "        # the output is at the third column of the dataset\n",
    "        dataY.append(dataset[i + look_back, 3])\n",
    "    return np.array(dataX), np.array(dataY)\n",
    "\n",
    "\n",
    "def mean_absolute_percentage_error(y_true, y_pred):\n",
    "    y_true, y_pred = np.array(y_true), np.array(y_pred)\n",
    "    return np.mean(np.abs((y_true - y_pred) / y_true)) * 100"
   ]
  },
  {
   "cell_type": "code",
   "execution_count": 2,
   "metadata": {
    "ExecuteTime": {
     "end_time": "2019-08-06T11:05:19.064533Z",
     "start_time": "2019-08-06T11:05:18.959587Z"
    }
   },
   "outputs": [],
   "source": [
    "dataframe_trainset = read_csv(\n",
    "    '../dataset/different_cycle_train_test/train_FUDS_BJDST_US06.csv', header=0, index_col=0)\n",
    "\n",
    "dataframe_testset = read_csv(\n",
    "    '../dataset/different_cycle_train_test/test_DST.csv', header=0, index_col=0)"
   ]
  },
  {
   "cell_type": "code",
   "execution_count": 3,
   "metadata": {
    "ExecuteTime": {
     "end_time": "2019-08-06T11:05:19.266082Z",
     "start_time": "2019-08-06T11:05:19.066189Z"
    }
   },
   "outputs": [],
   "source": [
    "train_dataset = dataframe_trainset.values\n",
    "X = train_dataset[:, :2]\n",
    "# one hot encode the temperature\n",
    "tempBinarizer = LabelBinarizer().fit(dataframe_trainset['Temp(C)'])\n",
    "trainCategorical = tempBinarizer.transform(dataframe_trainset['Temp(C)'])\n",
    "# concatenate the one hot features to V and I\n",
    "X = np.hstack([X, trainCategorical])\n",
    "Y = train_dataset[:, 3]\n",
    "\n",
    "\n",
    "test_dataset = dataframe_testset.values\n",
    "X_test = test_dataset[:, :2]\n",
    "# one hot encode the temperature\n",
    "tempBinarizer = LabelBinarizer().fit(dataframe_testset['Temp(C)'])\n",
    "testCategorical = tempBinarizer.transform(dataframe_testset['Temp(C)'])\n",
    "X_test = np.hstack([X_test, testCategorical])\n",
    "Y_test = test_dataset[:, 3]\n",
    "\n",
    "# reshape into X=t and Y=t+1\n",
    "look_back = 15\n",
    "feature = 3  # voltage and current and temp\n",
    "\n",
    "trainX, trainY = create_dataset(train_dataset, look_back)\n",
    "testX, testY = create_dataset(test_dataset, look_back)"
   ]
  },
  {
   "cell_type": "code",
   "execution_count": 4,
   "metadata": {
    "ExecuteTime": {
     "end_time": "2019-08-06T11:05:19.272226Z",
     "start_time": "2019-08-06T11:05:19.267451Z"
    }
   },
   "outputs": [],
   "source": [
    "# reshape input to be [samples, time steps, features]\n",
    "trainX = np.reshape(trainX, (trainX.shape[0], trainX.shape[1], feature))\n",
    "testX = np.reshape(testX, (testX.shape[0], testX.shape[1], feature))"
   ]
  },
  {
   "cell_type": "code",
   "execution_count": 5,
   "metadata": {
    "ExecuteTime": {
     "end_time": "2019-08-06T11:05:27.902905Z",
     "start_time": "2019-08-06T11:05:19.274092Z"
    }
   },
   "outputs": [
    {
     "name": "stderr",
     "output_type": "stream",
     "text": [
      "Using TensorFlow backend.\n",
      "/media/camaro/CODE_DATASET1/anaconda3/envs/soc/lib/python3.6/site-packages/requests/__init__.py:91: RequestsDependencyWarning: urllib3 (1.25.2) or chardet (3.0.4) doesn't match a supported version!\n",
      "  RequestsDependencyWarning)\n"
     ]
    }
   ],
   "source": [
    "from keras.callbacks import EarlyStopping, ModelCheckpoint, ReduceLROnPlateau, TensorBoard, CSVLogger\n",
    "from keras.models import Sequential, Model, Input\n",
    "from keras.layers import Dense, Dropout, regularizers, BatchNormalization\n",
    "\n",
    "from keras.layers import Flatten, GlobalAveragePooling1D\n",
    "from keras.layers.convolutional import Conv1D, Conv2D\n",
    "from keras.layers.convolutional import MaxPooling1D\n",
    "from keras.regularizers import l2\n",
    "\n",
    "from keras.layers import Conv1D, Input, Add, Activation, Dropout, Multiply, Lambda, add, concatenate\n",
    "from keras.initializers import TruncatedNormal\n",
    "from keras.regularizers import l2\n",
    "from keras.layers.advanced_activations import LeakyReLU, ELU\n",
    "from keras.optimizers import Adam\n",
    "from keras.layers import SimpleRNN\n",
    "from time import time\n",
    "import livelossplot\n",
    "from clr_callback import CyclicLR\n",
    "\n",
    "MIN_LR = 1e-7\n",
    "MAX_LR = 1e-2\n",
    "BATCH_SIZE = 64\n",
    "STEP_SIZE = 8\n",
    "CLR_METHOD = \"triangular2\"\n",
    "NUM_EPOCHS = 96\n",
    "\n",
    "TRAINING_PLOT_PATH = os.path.sep.join([\"output\", \"training_plot.png\"])\n",
    "CLR_PLOT_PATH = os.path.sep.join([\"output\", \"clr_plot.png\"])\n",
    "\n",
    "clr = CyclicLR(\n",
    "    mode=CLR_METHOD,\n",
    "    base_lr=MIN_LR,\n",
    "    max_lr=MAX_LR,\n",
    "    step_size=STEP_SIZE * (trainX.shape[0] // BATCH_SIZE))\n",
    "\n",
    "\n",
    "plot_losses = livelossplot.PlotLossesKeras()\n",
    "\n",
    "csv_logger = CSVLogger(\n",
    "    filename='fcn_saved_models/training.log', separator=',', append=False)\n",
    "\n",
    "reduce_lr = ReduceLROnPlateau(\n",
    "    monitor='val_loss', factor=0.1, patience=10, verbose=2, cooldown=10)\n",
    "\n",
    "earlyStopping = EarlyStopping(\n",
    "    monitor='val_loss', patience=30, verbose=2, mode='auto')\n",
    "\n",
    "filepath = \"fcn_saved_models/weights-improvement-{epoch:03d}-{val_loss:.6f}.hdf5\"\n",
    "\n",
    "checkpoint = ModelCheckpoint(\n",
    "    filepath, monitor='val_loss', verbose=1, save_best_only=True, mode='auto')\n",
    "\n",
    "\n",
    "tensorboard = TensorBoard(log_dir=\"logs/{}\".format(time()))\n",
    "\n",
    "callbacks_list = [plot_losses, clr]"
   ]
  },
  {
   "cell_type": "code",
   "execution_count": 6,
   "metadata": {
    "ExecuteTime": {
     "end_time": "2019-08-06T11:05:27.906548Z",
     "start_time": "2019-08-06T11:05:27.904003Z"
    }
   },
   "outputs": [],
   "source": [
    "def vgg_block(layer_in, n_filters, n_conv):\n",
    "    # add convolutional layers\n",
    "    for _ in range(n_conv):\n",
    "        layer_in = Conv1D(n_filters, 3, padding='same', activation='relu')(layer_in)\n",
    "    # add max pooling layer\n",
    "    layer_in = MaxPooling1D(2, strides=2)(layer_in)\n",
    "    return layer_in"
   ]
  },
  {
   "cell_type": "code",
   "execution_count": 7,
   "metadata": {
    "ExecuteTime": {
     "end_time": "2019-08-06T11:05:28.037133Z",
     "start_time": "2019-08-06T11:05:27.908675Z"
    }
   },
   "outputs": [],
   "source": [
    "# define model input\n",
    "visible = Input(shape=(look_back, feature))\n",
    "# add residual module\n",
    "layer = vgg_block(visible, 64, 3)\n",
    "layer = vgg_block(layer, 128, 2)\n",
    "layer = vgg_block(layer, 128, 2)\n",
    "\n",
    "\n",
    "# out_conv = Conv1D(1, 1)(layer)\n",
    "# out_conv = GlobalAveragePooling1D()(out_conv)\n",
    "# out_conv = Activation('relu')(out_conv)\n",
    "# model = Model(inputs=visible, outputs=out_conv)\n",
    "\n",
    "out_dense = Flatten()(layer)\n",
    "out_dense = Dense(1, kernel_initializer='he_uniform', activation='relu')(out_dense)\n",
    "# create model\n",
    "model = Model(inputs=visible, outputs=out_dense)\n",
    "model.compile(loss='mse', optimizer='adam', metrics=['mse', 'mae', 'mape', 'cosine'])"
   ]
  },
  {
   "cell_type": "code",
   "execution_count": null,
   "metadata": {
    "ExecuteTime": {
     "start_time": "2019-08-06T11:05:17.775Z"
    }
   },
   "outputs": [
    {
     "name": "stdout",
     "output_type": "stream",
     "text": [
      "_________________________________________________________________\n",
      "Layer (type)                 Output Shape              Param #   \n",
      "=================================================================\n",
      "input_1 (InputLayer)         (None, 15, 3)             0         \n",
      "_________________________________________________________________\n",
      "conv1d_1 (Conv1D)            (None, 15, 64)            640       \n",
      "_________________________________________________________________\n",
      "conv1d_2 (Conv1D)            (None, 15, 64)            12352     \n",
      "_________________________________________________________________\n",
      "conv1d_3 (Conv1D)            (None, 15, 64)            12352     \n",
      "_________________________________________________________________\n",
      "max_pooling1d_1 (MaxPooling1 (None, 7, 64)             0         \n",
      "_________________________________________________________________\n",
      "conv1d_4 (Conv1D)            (None, 7, 128)            24704     \n",
      "_________________________________________________________________\n",
      "conv1d_5 (Conv1D)            (None, 7, 128)            49280     \n",
      "_________________________________________________________________\n",
      "max_pooling1d_2 (MaxPooling1 (None, 3, 128)            0         \n",
      "_________________________________________________________________\n",
      "conv1d_6 (Conv1D)            (None, 3, 128)            49280     \n",
      "_________________________________________________________________\n",
      "conv1d_7 (Conv1D)            (None, 3, 128)            49280     \n",
      "_________________________________________________________________\n",
      "max_pooling1d_3 (MaxPooling1 (None, 1, 128)            0         \n",
      "_________________________________________________________________\n",
      "flatten_1 (Flatten)          (None, 128)               0         \n",
      "_________________________________________________________________\n",
      "dense_1 (Dense)              (None, 1)                 129       \n",
      "=================================================================\n",
      "Total params: 198,017\n",
      "Trainable params: 198,017\n",
      "Non-trainable params: 0\n",
      "_________________________________________________________________\n"
     ]
    }
   ],
   "source": [
    "model.summary()"
   ]
  },
  {
   "cell_type": "code",
   "execution_count": null,
   "metadata": {
    "ExecuteTime": {
     "start_time": "2019-08-06T11:05:17.777Z"
    },
    "scrolled": false
   },
   "outputs": [
    {
     "data": {
      "image/svg+xml": [
       "<svg height=\"921pt\" viewBox=\"0.00 0.00 215.00 921.00\" width=\"215pt\" xmlns=\"http://www.w3.org/2000/svg\" xmlns:xlink=\"http://www.w3.org/1999/xlink\">\n",
       "<g class=\"graph\" id=\"graph0\" transform=\"scale(1 1) rotate(0) translate(4 917)\">\n",
       "<title>G</title>\n",
       "<polygon fill=\"#ffffff\" points=\"-4,4 -4,-917 211,-917 211,4 -4,4\" stroke=\"transparent\"/>\n",
       "<!-- 140518767821152 -->\n",
       "<g class=\"node\" id=\"node1\">\n",
       "<title>140518767821152</title>\n",
       "<polygon fill=\"none\" points=\"41,-876.5 41,-912.5 166,-912.5 166,-876.5 41,-876.5\" stroke=\"#000000\"/>\n",
       "<text fill=\"#000000\" font-family=\"Times,serif\" font-size=\"14.00\" text-anchor=\"middle\" x=\"103.5\" y=\"-890.8\">input_1: InputLayer</text>\n",
       "</g>\n",
       "<!-- 140518767821208 -->\n",
       "<g class=\"node\" id=\"node2\">\n",
       "<title>140518767821208</title>\n",
       "<polygon fill=\"none\" points=\"42,-803.5 42,-839.5 165,-839.5 165,-803.5 42,-803.5\" stroke=\"#000000\"/>\n",
       "<text fill=\"#000000\" font-family=\"Times,serif\" font-size=\"14.00\" text-anchor=\"middle\" x=\"103.5\" y=\"-817.8\">conv1d_1: Conv1D</text>\n",
       "</g>\n",
       "<!-- 140518767821152&#45;&gt;140518767821208 -->\n",
       "<g class=\"edge\" id=\"edge1\">\n",
       "<title>140518767821152-&gt;140518767821208</title>\n",
       "<path d=\"M103.5,-876.4551C103.5,-868.3828 103.5,-858.6764 103.5,-849.6817\" fill=\"none\" stroke=\"#000000\"/>\n",
       "<polygon fill=\"#000000\" points=\"107.0001,-849.5903 103.5,-839.5904 100.0001,-849.5904 107.0001,-849.5903\" stroke=\"#000000\"/>\n",
       "</g>\n",
       "<!-- 140518767821768 -->\n",
       "<g class=\"node\" id=\"node3\">\n",
       "<title>140518767821768</title>\n",
       "<polygon fill=\"none\" points=\"42,-730.5 42,-766.5 165,-766.5 165,-730.5 42,-730.5\" stroke=\"#000000\"/>\n",
       "<text fill=\"#000000\" font-family=\"Times,serif\" font-size=\"14.00\" text-anchor=\"middle\" x=\"103.5\" y=\"-744.8\">conv1d_2: Conv1D</text>\n",
       "</g>\n",
       "<!-- 140518767821208&#45;&gt;140518767821768 -->\n",
       "<g class=\"edge\" id=\"edge2\">\n",
       "<title>140518767821208-&gt;140518767821768</title>\n",
       "<path d=\"M103.5,-803.4551C103.5,-795.3828 103.5,-785.6764 103.5,-776.6817\" fill=\"none\" stroke=\"#000000\"/>\n",
       "<polygon fill=\"#000000\" points=\"107.0001,-776.5903 103.5,-766.5904 100.0001,-776.5904 107.0001,-776.5903\" stroke=\"#000000\"/>\n",
       "</g>\n",
       "<!-- 140517119811480 -->\n",
       "<g class=\"node\" id=\"node4\">\n",
       "<title>140517119811480</title>\n",
       "<polygon fill=\"none\" points=\"42,-657.5 42,-693.5 165,-693.5 165,-657.5 42,-657.5\" stroke=\"#000000\"/>\n",
       "<text fill=\"#000000\" font-family=\"Times,serif\" font-size=\"14.00\" text-anchor=\"middle\" x=\"103.5\" y=\"-671.8\">conv1d_3: Conv1D</text>\n",
       "</g>\n",
       "<!-- 140518767821768&#45;&gt;140517119811480 -->\n",
       "<g class=\"edge\" id=\"edge3\">\n",
       "<title>140518767821768-&gt;140517119811480</title>\n",
       "<path d=\"M103.5,-730.4551C103.5,-722.3828 103.5,-712.6764 103.5,-703.6817\" fill=\"none\" stroke=\"#000000\"/>\n",
       "<polygon fill=\"#000000\" points=\"107.0001,-703.5903 103.5,-693.5904 100.0001,-703.5904 107.0001,-703.5903\" stroke=\"#000000\"/>\n",
       "</g>\n",
       "<!-- 140517110785584 -->\n",
       "<g class=\"node\" id=\"node5\">\n",
       "<title>140517110785584</title>\n",
       "<polygon fill=\"none\" points=\"0,-584.5 0,-620.5 207,-620.5 207,-584.5 0,-584.5\" stroke=\"#000000\"/>\n",
       "<text fill=\"#000000\" font-family=\"Times,serif\" font-size=\"14.00\" text-anchor=\"middle\" x=\"103.5\" y=\"-598.8\">max_pooling1d_1: MaxPooling1D</text>\n",
       "</g>\n",
       "<!-- 140517119811480&#45;&gt;140517110785584 -->\n",
       "<g class=\"edge\" id=\"edge4\">\n",
       "<title>140517119811480-&gt;140517110785584</title>\n",
       "<path d=\"M103.5,-657.4551C103.5,-649.3828 103.5,-639.6764 103.5,-630.6817\" fill=\"none\" stroke=\"#000000\"/>\n",
       "<polygon fill=\"#000000\" points=\"107.0001,-630.5903 103.5,-620.5904 100.0001,-630.5904 107.0001,-630.5903\" stroke=\"#000000\"/>\n",
       "</g>\n",
       "<!-- 140518767822832 -->\n",
       "<g class=\"node\" id=\"node6\">\n",
       "<title>140518767822832</title>\n",
       "<polygon fill=\"none\" points=\"42,-511.5 42,-547.5 165,-547.5 165,-511.5 42,-511.5\" stroke=\"#000000\"/>\n",
       "<text fill=\"#000000\" font-family=\"Times,serif\" font-size=\"14.00\" text-anchor=\"middle\" x=\"103.5\" y=\"-525.8\">conv1d_4: Conv1D</text>\n",
       "</g>\n",
       "<!-- 140517110785584&#45;&gt;140518767822832 -->\n",
       "<g class=\"edge\" id=\"edge5\">\n",
       "<title>140517110785584-&gt;140518767822832</title>\n",
       "<path d=\"M103.5,-584.4551C103.5,-576.3828 103.5,-566.6764 103.5,-557.6817\" fill=\"none\" stroke=\"#000000\"/>\n",
       "<polygon fill=\"#000000\" points=\"107.0001,-557.5903 103.5,-547.5904 100.0001,-557.5904 107.0001,-557.5903\" stroke=\"#000000\"/>\n",
       "</g>\n",
       "<!-- 140517110508568 -->\n",
       "<g class=\"node\" id=\"node7\">\n",
       "<title>140517110508568</title>\n",
       "<polygon fill=\"none\" points=\"42,-438.5 42,-474.5 165,-474.5 165,-438.5 42,-438.5\" stroke=\"#000000\"/>\n",
       "<text fill=\"#000000\" font-family=\"Times,serif\" font-size=\"14.00\" text-anchor=\"middle\" x=\"103.5\" y=\"-452.8\">conv1d_5: Conv1D</text>\n",
       "</g>\n",
       "<!-- 140518767822832&#45;&gt;140517110508568 -->\n",
       "<g class=\"edge\" id=\"edge6\">\n",
       "<title>140518767822832-&gt;140517110508568</title>\n",
       "<path d=\"M103.5,-511.4551C103.5,-503.3828 103.5,-493.6764 103.5,-484.6817\" fill=\"none\" stroke=\"#000000\"/>\n",
       "<polygon fill=\"#000000\" points=\"107.0001,-484.5903 103.5,-474.5904 100.0001,-484.5904 107.0001,-484.5903\" stroke=\"#000000\"/>\n",
       "</g>\n",
       "<!-- 140517110648784 -->\n",
       "<g class=\"node\" id=\"node8\">\n",
       "<title>140517110648784</title>\n",
       "<polygon fill=\"none\" points=\"0,-365.5 0,-401.5 207,-401.5 207,-365.5 0,-365.5\" stroke=\"#000000\"/>\n",
       "<text fill=\"#000000\" font-family=\"Times,serif\" font-size=\"14.00\" text-anchor=\"middle\" x=\"103.5\" y=\"-379.8\">max_pooling1d_2: MaxPooling1D</text>\n",
       "</g>\n",
       "<!-- 140517110508568&#45;&gt;140517110648784 -->\n",
       "<g class=\"edge\" id=\"edge7\">\n",
       "<title>140517110508568-&gt;140517110648784</title>\n",
       "<path d=\"M103.5,-438.4551C103.5,-430.3828 103.5,-420.6764 103.5,-411.6817\" fill=\"none\" stroke=\"#000000\"/>\n",
       "<polygon fill=\"#000000\" points=\"107.0001,-411.5903 103.5,-401.5904 100.0001,-411.5904 107.0001,-411.5903\" stroke=\"#000000\"/>\n",
       "</g>\n",
       "<!-- 140517110786256 -->\n",
       "<g class=\"node\" id=\"node9\">\n",
       "<title>140517110786256</title>\n",
       "<polygon fill=\"none\" points=\"42,-292.5 42,-328.5 165,-328.5 165,-292.5 42,-292.5\" stroke=\"#000000\"/>\n",
       "<text fill=\"#000000\" font-family=\"Times,serif\" font-size=\"14.00\" text-anchor=\"middle\" x=\"103.5\" y=\"-306.8\">conv1d_6: Conv1D</text>\n",
       "</g>\n",
       "<!-- 140517110648784&#45;&gt;140517110786256 -->\n",
       "<g class=\"edge\" id=\"edge8\">\n",
       "<title>140517110648784-&gt;140517110786256</title>\n",
       "<path d=\"M103.5,-365.4551C103.5,-357.3828 103.5,-347.6764 103.5,-338.6817\" fill=\"none\" stroke=\"#000000\"/>\n",
       "<polygon fill=\"#000000\" points=\"107.0001,-338.5903 103.5,-328.5904 100.0001,-338.5904 107.0001,-338.5903\" stroke=\"#000000\"/>\n",
       "</g>\n",
       "<!-- 140517110385240 -->\n",
       "<g class=\"node\" id=\"node10\">\n",
       "<title>140517110385240</title>\n",
       "<polygon fill=\"none\" points=\"42,-219.5 42,-255.5 165,-255.5 165,-219.5 42,-219.5\" stroke=\"#000000\"/>\n",
       "<text fill=\"#000000\" font-family=\"Times,serif\" font-size=\"14.00\" text-anchor=\"middle\" x=\"103.5\" y=\"-233.8\">conv1d_7: Conv1D</text>\n",
       "</g>\n",
       "<!-- 140517110786256&#45;&gt;140517110385240 -->\n",
       "<g class=\"edge\" id=\"edge9\">\n",
       "<title>140517110786256-&gt;140517110385240</title>\n",
       "<path d=\"M103.5,-292.4551C103.5,-284.3828 103.5,-274.6764 103.5,-265.6817\" fill=\"none\" stroke=\"#000000\"/>\n",
       "<polygon fill=\"#000000\" points=\"107.0001,-265.5903 103.5,-255.5904 100.0001,-265.5904 107.0001,-265.5903\" stroke=\"#000000\"/>\n",
       "</g>\n",
       "<!-- 140517110124896 -->\n",
       "<g class=\"node\" id=\"node11\">\n",
       "<title>140517110124896</title>\n",
       "<polygon fill=\"none\" points=\"0,-146.5 0,-182.5 207,-182.5 207,-146.5 0,-146.5\" stroke=\"#000000\"/>\n",
       "<text fill=\"#000000\" font-family=\"Times,serif\" font-size=\"14.00\" text-anchor=\"middle\" x=\"103.5\" y=\"-160.8\">max_pooling1d_3: MaxPooling1D</text>\n",
       "</g>\n",
       "<!-- 140517110385240&#45;&gt;140517110124896 -->\n",
       "<g class=\"edge\" id=\"edge10\">\n",
       "<title>140517110385240-&gt;140517110124896</title>\n",
       "<path d=\"M103.5,-219.4551C103.5,-211.3828 103.5,-201.6764 103.5,-192.6817\" fill=\"none\" stroke=\"#000000\"/>\n",
       "<polygon fill=\"#000000\" points=\"107.0001,-192.5903 103.5,-182.5904 100.0001,-192.5904 107.0001,-192.5903\" stroke=\"#000000\"/>\n",
       "</g>\n",
       "<!-- 140517110647496 -->\n",
       "<g class=\"node\" id=\"node12\">\n",
       "<title>140517110647496</title>\n",
       "<polygon fill=\"none\" points=\"48.5,-73.5 48.5,-109.5 158.5,-109.5 158.5,-73.5 48.5,-73.5\" stroke=\"#000000\"/>\n",
       "<text fill=\"#000000\" font-family=\"Times,serif\" font-size=\"14.00\" text-anchor=\"middle\" x=\"103.5\" y=\"-87.8\">flatten_1: Flatten</text>\n",
       "</g>\n",
       "<!-- 140517110124896&#45;&gt;140517110647496 -->\n",
       "<g class=\"edge\" id=\"edge11\">\n",
       "<title>140517110124896-&gt;140517110647496</title>\n",
       "<path d=\"M103.5,-146.4551C103.5,-138.3828 103.5,-128.6764 103.5,-119.6817\" fill=\"none\" stroke=\"#000000\"/>\n",
       "<polygon fill=\"#000000\" points=\"107.0001,-119.5903 103.5,-109.5904 100.0001,-119.5904 107.0001,-119.5903\" stroke=\"#000000\"/>\n",
       "</g>\n",
       "<!-- 140517110125680 -->\n",
       "<g class=\"node\" id=\"node13\">\n",
       "<title>140517110125680</title>\n",
       "<polygon fill=\"none\" points=\"52.5,-.5 52.5,-36.5 154.5,-36.5 154.5,-.5 52.5,-.5\" stroke=\"#000000\"/>\n",
       "<text fill=\"#000000\" font-family=\"Times,serif\" font-size=\"14.00\" text-anchor=\"middle\" x=\"103.5\" y=\"-14.8\">dense_1: Dense</text>\n",
       "</g>\n",
       "<!-- 140517110647496&#45;&gt;140517110125680 -->\n",
       "<g class=\"edge\" id=\"edge12\">\n",
       "<title>140517110647496-&gt;140517110125680</title>\n",
       "<path d=\"M103.5,-73.4551C103.5,-65.3828 103.5,-55.6764 103.5,-46.6817\" fill=\"none\" stroke=\"#000000\"/>\n",
       "<polygon fill=\"#000000\" points=\"107.0001,-46.5903 103.5,-36.5904 100.0001,-46.5904 107.0001,-46.5903\" stroke=\"#000000\"/>\n",
       "</g>\n",
       "</g>\n",
       "</svg>"
      ],
      "text/plain": [
       "<IPython.core.display.SVG object>"
      ]
     },
     "execution_count": 9,
     "metadata": {},
     "output_type": "execute_result"
    }
   ],
   "source": [
    "from IPython.display import SVG\n",
    "from keras.utils.vis_utils import model_to_dot\n",
    "\n",
    "SVG(model_to_dot(model).create(prog='dot', format='svg'))"
   ]
  },
  {
   "cell_type": "code",
   "execution_count": null,
   "metadata": {
    "ExecuteTime": {
     "start_time": "2019-08-06T11:05:17.779Z"
    },
    "scrolled": false
   },
   "outputs": [
    {
     "data": {
      "image/png": "[encoded data removed]",
      "text/plain": [
       "<Figure size 864x1152 with 5 Axes>"
      ]
     },
     "metadata": {
      "needs_background": "light"
     },
     "output_type": "display_data"
    }
   ],
   "source": [
    "import time\n",
    "time_start = time.time()\n",
    "history = model.fit(trainX,trainY, callbacks=callbacks_list, epochs=1000, validation_split=0.15, batch_size=256, verbose=2)"
   ]
  },
  {
   "cell_type": "code",
   "execution_count": null,
   "metadata": {
    "ExecuteTime": {
     "start_time": "2019-08-06T11:05:17.780Z"
    }
   },
   "outputs": [],
   "source": [
    "MSE_scores = []\n",
    "RMSE_scores = []\n",
    "MAE_scores = []\n",
    "MAPE_scores = []\n",
    "R2_scores = []\n",
    "\n",
    "print(\"Training Time: {}\".format(time.time()-time_start))\n",
    "\n",
    "print(\"----------------------------\")\n",
    "prediction = model.predict(trainX)\n",
    "df = pd.DataFrame(prediction, columns=[\"Predicted SOC\"])\n",
    "df['True SOC'] = trainY\n",
    "df['Rolling Mean Pred'] = df[\"Predicted SOC\"].rolling(window = 100).mean()\n",
    "df = df.dropna()\n",
    "\n",
    "# Calculate MSE\n",
    "mseScore = mean_squared_error(df['True SOC'].values, df['Rolling Mean Pred'].values)\n",
    "print('Train MSE: %.6f  ' % (mseScore))\n",
    "MSE_scores.append(mseScore)\n",
    "\n",
    "# Calculate RMSE\n",
    "rmseScore = math.sqrt(mean_squared_error(df['True SOC'].values, df['Rolling Mean Pred'].values))\n",
    "print('Train RMSE: %.6f  ' % (rmseScore))\n",
    "RMSE_scores.append(rmseScore)\n",
    "\n",
    "# Calculate MAE\n",
    "maeScore = math.sqrt(mean_absolute_error(df['True SOC'].values, df['Rolling Mean Pred'].values))\n",
    "print('Train MAE: %.6f  ' % (maeScore))\n",
    "MAE_scores.append(maeScore)\n",
    "\n",
    "# Calculate MAPE\n",
    "mapeScore = math.sqrt(mean_absolute_percentage_error(df['True SOC'].values, df['Rolling Mean Pred'].values))\n",
    "print('Train MAPE: %.6f  ' % (mapeScore))\n",
    "MAPE_scores.append(mapeScore)\n",
    "\n",
    "# Calculate R2\n",
    "r2score = r2_score(df['True SOC'].values, df['Rolling Mean Pred'].values)  \n",
    "print('R2 Coefficient: %.6f ' % (r2score))\n",
    "R2_scores.append(r2score)\n",
    "\n",
    "\n",
    "\n",
    "df.plot()"
   ]
  },
  {
   "cell_type": "code",
   "execution_count": null,
   "metadata": {},
   "outputs": [],
   "source": []
  },
  {
   "cell_type": "raw",
   "metadata": {
    "ExecuteTime": {
     "start_time": "2019-08-06T11:05:17.782Z"
    }
   },
   "source": [
    "print(\"----------------------------\")\n",
    "prediction = model.predict(testX)\n",
    "df = pd.DataFrame(prediction, columns=[\"Predicted SOC\"])\n",
    "df['True SOC'] = testY\n",
    "df['Rolling Mean Pred'] = df[\"Predicted SOC\"].rolling(window=100).mean()\n",
    "df = df.dropna()\n",
    "\n",
    "# Calculate MSE\n",
    "mseScore = mean_squared_error(\n",
    "    df['True SOC'].values, df['Rolling Mean Pred'].values)\n",
    "print('Test MSE: %.6f  ' % (mseScore))\n",
    "MSE_scores.append(mseScore)\n",
    "\n",
    "# Calculate RMSE\n",
    "rmseScore = math.sqrt(mean_squared_error(\n",
    "    df['True SOC'].values, df['Rolling Mean Pred'].values))\n",
    "print('Test RMSE: %.6f  ' % (rmseScore))\n",
    "RMSE_scores.append(rmseScore)\n",
    "\n",
    "# Calculate MAE\n",
    "maeScore = math.sqrt(mean_absolute_error(\n",
    "    df['True SOC'].values, df['Rolling Mean Pred'].values))\n",
    "print('Test MAE: %.6f  ' % (maeScore))\n",
    "MAE_scores.append(maeScore)\n",
    "\n",
    "# Calculate MAPE\n",
    "mapeScore = math.sqrt(mean_absolute_percentage_error(\n",
    "    df['True SOC'].values, df['Rolling Mean Pred'].values))\n",
    "print('Test MAPE: %.6f  ' % (mapeScore))\n",
    "MAPE_scores.append(mapeScore)\n",
    "\n",
    "# Calculate R2\n",
    "r2score = r2_score(df['True SOC'].values, df['Rolling Mean Pred'].values)\n",
    "print('R2 Coefficient: %.6f ' % (r2score))\n",
    "R2_scores.append(r2score)\n",
    "\n",
    "\n",
    "df.plot()"
   ]
  },
  {
   "cell_type": "code",
   "execution_count": null,
   "metadata": {
    "ExecuteTime": {
     "start_time": "2019-08-06T11:05:17.784Z"
    }
   },
   "outputs": [],
   "source": [
    "result_df = pd.DataFrame({\"Dataset\":[\"Train\", \"Test\"], \"MSE\":MSE_scores, \"RMSE\":RMSE_scores, \"MAE\":MAE_scores, \"MAPE\":MAPE_scores, \"R2\":R2_scores})\n",
    "result_df"
   ]
  }
 ],
 "metadata": {
  "kernelspec": {
   "display_name": "Python 3",
   "language": "python",
   "name": "python3"
  },
  "language_info": {
   "codemirror_mode": {
    "name": "ipython",
    "version": 3
   },
   "file_extension": ".py",
   "mimetype": "text/x-python",
   "name": "python",
   "nbconvert_exporter": "python",
   "pygments_lexer": "ipython3",
   "version": "3.6.8"
  }
 },
 "nbformat": 4,
 "nbformat_minor": 2
}
