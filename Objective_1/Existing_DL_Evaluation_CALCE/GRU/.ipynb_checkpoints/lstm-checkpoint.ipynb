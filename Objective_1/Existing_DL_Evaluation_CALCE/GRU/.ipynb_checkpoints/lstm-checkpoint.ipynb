{
 "cells": [
  {
   "cell_type": "code",
   "execution_count": 1,
   "metadata": {
    "ExecuteTime": {
     "end_time": "2019-08-02T10:49:02.475635Z",
     "start_time": "2019-08-02T10:49:01.638898Z"
    }
   },
   "outputs": [],
   "source": [
    "import seaborn as sns\n",
    "import matplotlib.style as style\n",
    "import math\n",
    "from sklearn.metrics import mean_squared_error, mean_absolute_error, r2_score\n",
    "from matplotlib import pyplot\n",
    "from pandas import read_csv\n",
    "import numpy as np\n",
    "import matplotlib.pyplot as plt\n",
    "import pandas as pd\n",
    "import os\n",
    "os.environ[\"CUDA_DEVICE_ORDER\"] = \"PCI_BUS_ID\"\n",
    "os.environ[\"CUDA_VISIBLE_DEVICES\"] = \"0\"\n",
    "\n",
    "\n",
    "%matplotlib inline\n",
    "\n",
    "\n",
    "style.use('fivethirtyeight')\n",
    "\n",
    "\n",
    "def create_dataset(dataset, look_back=1):\n",
    "    dataX, dataY = [], []\n",
    "    for i in range(len(dataset)-look_back-1):\n",
    "        # use first and second column in the dataset\n",
    "        a = dataset[i:(i+look_back), 0:2]\n",
    "        dataX.append(a)\n",
    "        # the output is at the third column of the dataset\n",
    "        dataY.append(dataset[i + look_back, 2])\n",
    "    return np.array(dataX), np.array(dataY)\n",
    "\n",
    "\n",
    "def mean_absolute_percentage_error(y_true, y_pred):\n",
    "    y_true, y_pred = np.array(y_true), np.array(y_pred)\n",
    "    return np.mean(np.abs((y_true - y_pred) / y_true)) * 100"
   ]
  },
  {
   "cell_type": "code",
   "execution_count": 2,
   "metadata": {
    "ExecuteTime": {
     "end_time": "2019-08-02T10:49:02.723571Z",
     "start_time": "2019-08-02T10:49:02.477600Z"
    }
   },
   "outputs": [],
   "source": [
    "dataframe_trainset = read_csv(\n",
    "    '../dataset/even_odd_index_dataset/train_set.csv', header=0, index_col=0)\n",
    "dataframe_validset = read_csv(\n",
    "    '../dataset/even_odd_index_dataset/validation_set.csv', header=0, index_col=0)\n",
    "dataframe_testset = read_csv(\n",
    "    '../dataset/even_odd_index_dataset/test_set.csv', header=0, index_col=0)\n",
    "\n",
    "\n",
    "train_dataset = dataframe_trainset.values\n",
    "X = train_dataset[:, :2]\n",
    "Y = train_dataset[:, 2]\n",
    "\n",
    "validation_dataset = dataframe_validset.values\n",
    "X_val = validation_dataset[:, :2]\n",
    "Y_val = validation_dataset[:, 2]\n",
    "\n",
    "test_dataset = dataframe_testset.values  # change this accordingly\n",
    "X_test = test_dataset[:, :2]\n",
    "Y_test = test_dataset[:, 2]\n",
    "\n",
    "# reshape into X=t and Y=t+1\n",
    "look_back = 20\n",
    "feature = 2  # voltage and current\n",
    "\n",
    "trainX, trainY = create_dataset(train_dataset, look_back)\n",
    "valX, valY = create_dataset(validation_dataset, look_back)\n",
    "testX, testY = create_dataset(test_dataset, look_back)\n",
    "\n",
    "# reshape input to be [samples, time steps, features]\n",
    "trainX = np.reshape(trainX, (trainX.shape[0], trainX.shape[1], feature))\n",
    "valX = np.reshape(valX, (valX.shape[0], valX.shape[1], feature))\n",
    "testX = np.reshape(testX, (testX.shape[0], testX.shape[1], feature))"
   ]
  },
  {
   "cell_type": "code",
   "execution_count": 3,
   "metadata": {
    "ExecuteTime": {
     "end_time": "2019-08-02T10:49:09.704786Z",
     "start_time": "2019-08-02T10:49:02.726077Z"
    }
   },
   "outputs": [
    {
     "name": "stderr",
     "output_type": "stream",
     "text": [
      "Using TensorFlow backend.\n",
      "/media/camaro/CODE_DATASET1/anaconda3/envs/soc/lib/python3.6/site-packages/requests/__init__.py:91: RequestsDependencyWarning: urllib3 (1.25.2) or chardet (3.0.4) doesn't match a supported version!\n",
      "  RequestsDependencyWarning)\n"
     ]
    }
   ],
   "source": [
    "from keras.callbacks import EarlyStopping, ModelCheckpoint, ReduceLROnPlateau, TensorBoard, CSVLogger\n",
    "from keras.models import Sequential, Model\n",
    "from keras.layers import Dense, Dropout, regularizers, BatchNormalization\n",
    "\n",
    "from keras.layers import Flatten, GlobalAveragePooling1D\n",
    "from keras.layers.convolutional import Conv1D, Conv2D\n",
    "from keras.layers.convolutional import MaxPooling1D\n",
    "\n",
    "from keras.layers import Conv1D, Input, Add, Activation, Dropout, Multiply, Lambda\n",
    "from keras.initializers import TruncatedNormal\n",
    "from keras.regularizers import l2\n",
    "from keras.layers.advanced_activations import LeakyReLU, ELU\n",
    "from keras.optimizers import Adam\n",
    "from clr_callback import CyclicLR\n",
    "from keras.layers import GRU\n",
    "\n",
    "\n",
    "from time import time\n",
    "\n",
    "\n",
    "import livelossplot\n",
    "\n",
    "MIN_LR = 1e-7\n",
    "MAX_LR = 1e-2\n",
    "BATCH_SIZE = 64\n",
    "STEP_SIZE = 8\n",
    "CLR_METHOD = \"triangular2\"\n",
    "NUM_EPOCHS = 96\n",
    "\n",
    "TRAINING_PLOT_PATH = os.path.sep.join([\"output\", \"training_plot.png\"])\n",
    "CLR_PLOT_PATH = os.path.sep.join([\"output\", \"clr_plot.png\"])\n",
    "\n",
    "clr = CyclicLR(\n",
    "    mode=CLR_METHOD,\n",
    "    base_lr=MIN_LR,\n",
    "    max_lr=MAX_LR,\n",
    "    step_size=STEP_SIZE * (trainX.shape[0] // BATCH_SIZE))\n",
    "\n",
    "\n",
    "plot_losses = livelossplot.PlotLossesKeras()\n",
    "csv_logger = CSVLogger(\n",
    "    filename='gru_saved_models/training.log', separator=',', append=False)\n",
    "reduce_lr = ReduceLROnPlateau(\n",
    "    monitor='val_loss', factor=0.1, patience=5, verbose=2, cooldown=1)\n",
    "earlyStopping = EarlyStopping(\n",
    "    monitor='val_loss', patience=30, verbose=2, mode='auto')\n",
    "filepath = \"gru_saved_models/weights-improvement-{epoch:04d}-{val_loss:.4f}.hdf5\"\n",
    "checkpoint = ModelCheckpoint(\n",
    "    filepath, monitor='val_loss', verbose=1, save_best_only=True, mode='auto')\n",
    "tensorboard = TensorBoard(log_dir=\"logs/{}\".format(time()))\n",
    "\n",
    "callbacks_list = [clr, plot_losses]\n",
    "\n",
    "\n",
    "model = Sequential()\n",
    "model.add(GRU(50, input_shape=(look_back, feature)))\n",
    "model.add(Dense(1, activation='linear'))\n",
    "model.compile(loss='mse', optimizer='adam', metrics=[\n",
    "              'mse', 'mae', 'mape', 'cosine'])"
   ]
  },
  {
   "cell_type": "code",
   "execution_count": 4,
   "metadata": {
    "ExecuteTime": {
     "end_time": "2019-08-02T10:49:09.709392Z",
     "start_time": "2019-08-02T10:49:09.705811Z"
    }
   },
   "outputs": [
    {
     "name": "stdout",
     "output_type": "stream",
     "text": [
      "_________________________________________________________________\n",
      "Layer (type)                 Output Shape              Param #   \n",
      "=================================================================\n",
      "gru_1 (GRU)                  (None, 50)                7950      \n",
      "_________________________________________________________________\n",
      "dense_1 (Dense)              (None, 1)                 51        \n",
      "=================================================================\n",
      "Total params: 8,001\n",
      "Trainable params: 8,001\n",
      "Non-trainable params: 0\n",
      "_________________________________________________________________\n"
     ]
    }
   ],
   "source": [
    "model.summary()"
   ]
  },
  {
   "cell_type": "code",
   "execution_count": 5,
   "metadata": {
    "ExecuteTime": {
     "end_time": "2019-08-02T10:49:09.816375Z",
     "start_time": "2019-08-02T10:49:09.718669Z"
    },
    "scrolled": true
   },
   "outputs": [
    {
     "data": {
      "image/svg+xml": [
       "<svg height=\"191pt\" viewBox=\"0.00 0.00 126.00 191.00\" width=\"126pt\" xmlns=\"http://www.w3.org/2000/svg\" xmlns:xlink=\"http://www.w3.org/1999/xlink\">\n",
       "<g class=\"graph\" id=\"graph0\" transform=\"scale(1 1) rotate(0) translate(4 187)\">\n",
       "<title>G</title>\n",
       "<polygon fill=\"#ffffff\" points=\"-4,4 -4,-187 122,-187 122,4 -4,4\" stroke=\"transparent\"/>\n",
       "<!-- 140243691354264 -->\n",
       "<g class=\"node\" id=\"node1\">\n",
       "<title>140243691354264</title>\n",
       "<polygon fill=\"none\" points=\"17,-73.5 17,-109.5 101,-109.5 101,-73.5 17,-73.5\" stroke=\"#000000\"/>\n",
       "<text fill=\"#000000\" font-family=\"Times,serif\" font-size=\"14.00\" text-anchor=\"middle\" x=\"59\" y=\"-87.8\">gru_1: GRU</text>\n",
       "</g>\n",
       "<!-- 140243691354656 -->\n",
       "<g class=\"node\" id=\"node2\">\n",
       "<title>140243691354656</title>\n",
       "<polygon fill=\"none\" points=\"8,-.5 8,-36.5 110,-36.5 110,-.5 8,-.5\" stroke=\"#000000\"/>\n",
       "<text fill=\"#000000\" font-family=\"Times,serif\" font-size=\"14.00\" text-anchor=\"middle\" x=\"59\" y=\"-14.8\">dense_1: Dense</text>\n",
       "</g>\n",
       "<!-- 140243691354264&#45;&gt;140243691354656 -->\n",
       "<g class=\"edge\" id=\"edge2\">\n",
       "<title>140243691354264-&gt;140243691354656</title>\n",
       "<path d=\"M59,-73.4551C59,-65.3828 59,-55.6764 59,-46.6817\" fill=\"none\" stroke=\"#000000\"/>\n",
       "<polygon fill=\"#000000\" points=\"62.5001,-46.5903 59,-36.5904 55.5001,-46.5904 62.5001,-46.5903\" stroke=\"#000000\"/>\n",
       "</g>\n",
       "<!-- 140243594098672 -->\n",
       "<g class=\"node\" id=\"node3\">\n",
       "<title>140243594098672</title>\n",
       "<polygon fill=\"none\" points=\"0,-146.5 0,-182.5 118,-182.5 118,-146.5 0,-146.5\" stroke=\"#000000\"/>\n",
       "<text fill=\"#000000\" font-family=\"Times,serif\" font-size=\"14.00\" text-anchor=\"middle\" x=\"59\" y=\"-160.8\">140243594098672</text>\n",
       "</g>\n",
       "<!-- 140243594098672&#45;&gt;140243691354264 -->\n",
       "<g class=\"edge\" id=\"edge1\">\n",
       "<title>140243594098672-&gt;140243691354264</title>\n",
       "<path d=\"M59,-146.4551C59,-138.3828 59,-128.6764 59,-119.6817\" fill=\"none\" stroke=\"#000000\"/>\n",
       "<polygon fill=\"#000000\" points=\"62.5001,-119.5903 59,-109.5904 55.5001,-119.5904 62.5001,-119.5903\" stroke=\"#000000\"/>\n",
       "</g>\n",
       "</g>\n",
       "</svg>"
      ],
      "text/plain": [
       "<IPython.core.display.SVG object>"
      ]
     },
     "execution_count": 5,
     "metadata": {},
     "output_type": "execute_result"
    }
   ],
   "source": [
    "from IPython.display import SVG\n",
    "from keras.utils.vis_utils import model_to_dot\n",
    "\n",
    "SVG(model_to_dot(model).create(prog='dot', format='svg'))"
   ]
  },
  {
   "cell_type": "code",
   "execution_count": null,
   "metadata": {
    "ExecuteTime": {
     "start_time": "2019-08-02T10:49:01.634Z"
    },
    "scrolled": false
   },
   "outputs": [
    {
     "data": {
      "image/png": "[encoded data removed]",
      "text/plain": [
       "<Figure size 864x1152 with 5 Axes>"
      ]
     },
     "metadata": {
      "needs_background": "light"
     },
     "output_type": "display_data"
    },
    {
     "name": "stdout",
     "output_type": "stream",
     "text": [
      "mse (cost function):\n",
      "training   (min:  331.573, max:  813.574, cur:  331.573)\n",
      "validation (min:  331.411, max:  566.764, cur:  331.430)\n",
      "\n",
      "Mean squared error:\n",
      "training   (min:  331.573, max:  813.574, cur:  331.573)\n",
      "validation (min:  331.411, max:  566.764, cur:  331.430)\n",
      "\n",
      "Mean absolute error:\n",
      "training   (min:   14.885, max:   23.426, cur:   14.916)\n",
      "validation (min:   14.765, max:   20.902, cur:   14.765)\n",
      "\n",
      "Mean absolute percentage error:\n",
      "training   (min: 826358753.362, max: 7455738347.586, cur: 7444112618.170)\n",
      "validation (min: 2781330140.186, max: 7532610123.929, cur: 7532610123.929)\n",
      "\n",
      "cosine_proximity:\n",
      "training   (min:   -0.696, max:   -0.673, cur:   -0.696)\n",
      "validation (min:   -0.696, max:   -0.696, cur:   -0.696)\n",
      "Epoch 22/2000\n"
     ]
    }
   ],
   "source": [
    "import time\n",
    "time_start = time.time()\n",
    "history = model.fit(trainX,trainY, callbacks=callbacks_list, epochs=2000, validation_data=(valX, valY), batch_size=256, verbose=2)"
   ]
  },
  {
   "cell_type": "code",
   "execution_count": null,
   "metadata": {
    "ExecuteTime": {
     "start_time": "2019-08-02T10:49:01.635Z"
    }
   },
   "outputs": [],
   "source": [
    "MSE_scores = []\n",
    "RMSE_scores = []\n",
    "MAE_scores = []\n",
    "MAPE_scores = []\n",
    "R2_scores = []\n",
    "\n",
    "print(\"Training Time: {}\".format(time.time()-time_start))\n",
    "\n",
    "print(\"----------------------------\")\n",
    "prediction = model.predict(trainX)\n",
    "df = pd.DataFrame(prediction, columns=[\"Predicted SOC\"])\n",
    "df['True SOC'] = trainY\n",
    "df['Rolling Mean Pred'] = df[\"Predicted SOC\"].rolling(window = 100).mean()\n",
    "df = df.dropna()\n",
    "\n",
    "# Calculate MSE\n",
    "mseScore = mean_squared_error(df['True SOC'].values, df['Rolling Mean Pred'].values)\n",
    "print('Train MSE: %.6f  ' % (mseScore))\n",
    "MSE_scores.append(mseScore)\n",
    "\n",
    "# Calculate RMSE\n",
    "rmseScore = math.sqrt(mean_squared_error(df['True SOC'].values, df['Rolling Mean Pred'].values))\n",
    "print('Train RMSE: %.6f  ' % (rmseScore))\n",
    "RMSE_scores.append(rmseScore)\n",
    "\n",
    "# Calculate MAE\n",
    "maeScore = math.sqrt(mean_absolute_error(df['True SOC'].values, df['Rolling Mean Pred'].values))\n",
    "print('Train MAE: %.6f  ' % (maeScore))\n",
    "MAE_scores.append(maeScore)\n",
    "\n",
    "# Calculate MAPE\n",
    "mapeScore = math.sqrt(mean_absolute_percentage_error(df['True SOC'].values, df['Rolling Mean Pred'].values))\n",
    "print('Train MAPE: %.6f  ' % (mapeScore))\n",
    "MAPE_scores.append(mapeScore)\n",
    "\n",
    "# Calculate R2\n",
    "r2score = r2_score(df['True SOC'].values, df['Rolling Mean Pred'].values)  \n",
    "print('R2 Coefficient: %.6f ' % (r2score))\n",
    "R2_scores.append(r2score)\n",
    "\n",
    "\n",
    "\n",
    "df.plot()"
   ]
  },
  {
   "cell_type": "code",
   "execution_count": null,
   "metadata": {
    "ExecuteTime": {
     "start_time": "2019-08-02T10:49:01.636Z"
    }
   },
   "outputs": [],
   "source": [
    "print(\"----------------------------\")\n",
    "prediction = model.predict(testX)\n",
    "df = pd.DataFrame(prediction, columns=[\"Predicted SOC\"])\n",
    "df['True SOC'] = testY\n",
    "df['Rolling Mean Pred'] = df[\"Predicted SOC\"].rolling(window=100).mean()\n",
    "df = df.dropna()\n",
    "\n",
    "# Calculate MSE\n",
    "mseScore = mean_squared_error(\n",
    "    df['True SOC'].values, df['Rolling Mean Pred'].values)\n",
    "print('Test MSE: %.6f  ' % (mseScore))\n",
    "MSE_scores.append(mseScore)\n",
    "\n",
    "# Calculate RMSE\n",
    "rmseScore = math.sqrt(mean_squared_error(\n",
    "    df['True SOC'].values, df['Rolling Mean Pred'].values))\n",
    "print('Test RMSE: %.6f  ' % (rmseScore))\n",
    "RMSE_scores.append(rmseScore)\n",
    "\n",
    "# Calculate MAE\n",
    "maeScore = math.sqrt(mean_absolute_error(\n",
    "    df['True SOC'].values, df['Rolling Mean Pred'].values))\n",
    "print('Test MAE: %.6f  ' % (maeScore))\n",
    "MAE_scores.append(maeScore)\n",
    "\n",
    "# Calculate MAPE\n",
    "mapeScore = math.sqrt(mean_absolute_percentage_error(\n",
    "    df['True SOC'].values, df['Rolling Mean Pred'].values))\n",
    "print('Test MAPE: %.6f  ' % (mapeScore))\n",
    "MAPE_scores.append(mapeScore)\n",
    "\n",
    "# Calculate R2\n",
    "r2score = r2_score(df['True SOC'].values, df['Rolling Mean Pred'].values)\n",
    "print('R2 Coefficient: %.6f ' % (r2score))\n",
    "R2_scores.append(r2score)\n",
    "\n",
    "\n",
    "df.plot()"
   ]
  },
  {
   "cell_type": "code",
   "execution_count": null,
   "metadata": {
    "ExecuteTime": {
     "start_time": "2019-08-02T10:49:01.637Z"
    }
   },
   "outputs": [],
   "source": [
    "result_df = pd.DataFrame({\"Dataset\":[\"Train\", \"Test\"], \"MSE\":MSE_scores, \"RMSE\":RMSE_scores, \"MAE\":MAE_scores, \"MAPE\":MAPE_scores, \"R2\":R2_scores})\n",
    "result_df"
   ]
  },
  {
   "cell_type": "code",
   "execution_count": null,
   "metadata": {},
   "outputs": [],
   "source": []
  }
 ],
 "metadata": {
  "kernelspec": {
   "display_name": "Python 3",
   "language": "python",
   "name": "python3"
  },
  "language_info": {
   "codemirror_mode": {
    "name": "ipython",
    "version": 3
   },
   "file_extension": ".py",
   "mimetype": "text/x-python",
   "name": "python",
   "nbconvert_exporter": "python",
   "pygments_lexer": "ipython3",
   "version": "3.6.8"
  }
 },
 "nbformat": 4,
 "nbformat_minor": 2
}
